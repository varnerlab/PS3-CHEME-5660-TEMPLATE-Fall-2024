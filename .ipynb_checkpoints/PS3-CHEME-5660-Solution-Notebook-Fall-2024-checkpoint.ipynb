{
 "cells": [
  {
   "cell_type": "markdown",
   "id": "fdaf9a18-36cb-42b6-860c-af14e050cac6",
   "metadata": {},
   "source": [
    "# Problem Set 3: Probability of Profit Calculations for Lattice versus Geometric Brownian Motion\n",
    "Fill me in"
   ]
  },
  {
   "cell_type": "markdown",
   "id": "06c3abbd-8899-43a3-8242-1de71fc739c7",
   "metadata": {},
   "source": [
    "## Setup\n",
    "We set up the computational environment by including [the `Include.jl` file](Include.jl). The [`Include.jl` file](Include.jl) loads external packages, various functions that we will use in the exercise, and custom types to model the components of our example problem.\n",
    "* See the [Julia programming language documentation](https://docs.julialang.org/en/v1/) and the [VLQuantitativeFinancePackage.jl documentation](https://github.com/varnerlab/VLQuantitativeFinancePackage.jl) for additional information on functions and types used in this material. "
   ]
  },
  {
   "cell_type": "code",
   "execution_count": 4,
   "id": "01886a45-e486-42e8-b8f5-df53a0e59c98",
   "metadata": {},
   "outputs": [
    {
     "data": {
      "text/plain": [
       "MyOutOfSampleMarketDataSet (generic function with 1 method)"
      ]
     },
     "execution_count": 4,
     "metadata": {},
     "output_type": "execute_result"
    }
   ],
   "source": [
    "include(\"Include.jl\");"
   ]
  },
  {
   "cell_type": "markdown",
   "id": "088b5978-a13f-4302-b635-0925f3dc737f",
   "metadata": {},
   "source": [
    "## Prerequisites: Load and clean the testing dataset\n",
    "We gathered a daily open-high-low-close `dataset` for each firm in the [S&P500](https://en.wikipedia.org/wiki/S%26P_500) from `01-03-2024` until last week `09-23-24` close, along with data for a few exchange-traded funds and volatility products during that time. We load the `prediction_dataset` by calling the `MyOutOfSampleMarketDataSet()` function:"
   ]
  },
  {
   "cell_type": "code",
   "execution_count": 8,
   "id": "38540e26-12bf-4bef-8999-dba85dbb43c6",
   "metadata": {},
   "outputs": [
    {
     "data": {
      "text/plain": [
       "Dict{String, DataFrame} with 488 entries:\n",
       "  \"NI\"   => \u001b[1m182×8 DataFrame\u001b[0m\u001b[0m…\n",
       "  \"EMR\"  => \u001b[1m182×8 DataFrame\u001b[0m\u001b[0m…\n",
       "  \"CTAS\" => \u001b[1m182×8 DataFrame\u001b[0m\u001b[0m…\n",
       "  \"HSIC\" => \u001b[1m182×8 DataFrame\u001b[0m\u001b[0m…\n",
       "  \"KIM\"  => \u001b[1m182×8 DataFrame\u001b[0m\u001b[0m…\n",
       "  \"PLD\"  => \u001b[1m182×8 DataFrame\u001b[0m\u001b[0m…\n",
       "  \"IEX\"  => \u001b[1m182×8 DataFrame\u001b[0m\u001b[0m…\n",
       "  \"BAC\"  => \u001b[1m182×8 DataFrame\u001b[0m\u001b[0m…\n",
       "  \"CBOE\" => \u001b[1m182×8 DataFrame\u001b[0m\u001b[0m…\n",
       "  \"EXR\"  => \u001b[1m182×8 DataFrame\u001b[0m\u001b[0m…\n",
       "  \"NCLH\" => \u001b[1m182×8 DataFrame\u001b[0m\u001b[0m…\n",
       "  \"CVS\"  => \u001b[1m182×8 DataFrame\u001b[0m\u001b[0m…\n",
       "  \"DRI\"  => \u001b[1m182×8 DataFrame\u001b[0m\u001b[0m…\n",
       "  \"DTE\"  => \u001b[1m182×8 DataFrame\u001b[0m\u001b[0m…\n",
       "  \"ZION\" => \u001b[1m182×8 DataFrame\u001b[0m\u001b[0m…\n",
       "  \"AVY\"  => \u001b[1m182×8 DataFrame\u001b[0m\u001b[0m…\n",
       "  \"EW\"   => \u001b[1m182×8 DataFrame\u001b[0m\u001b[0m…\n",
       "  \"EA\"   => \u001b[1m182×8 DataFrame\u001b[0m\u001b[0m…\n",
       "  \"NWSA\" => \u001b[1m182×8 DataFrame\u001b[0m\u001b[0m…\n",
       "  \"BBWI\" => \u001b[1m182×8 DataFrame\u001b[0m\u001b[0m…\n",
       "  \"CAG\"  => \u001b[1m182×8 DataFrame\u001b[0m\u001b[0m…\n",
       "  \"GPC\"  => \u001b[1m182×8 DataFrame\u001b[0m\u001b[0m…\n",
       "  \"FCX\"  => \u001b[1m182×8 DataFrame\u001b[0m\u001b[0m…\n",
       "  \"GILD\" => \u001b[1m182×8 DataFrame\u001b[0m\u001b[0m…\n",
       "  \"UNP\"  => \u001b[1m182×8 DataFrame\u001b[0m\u001b[0m…\n",
       "  ⋮      => ⋮"
      ]
     },
     "execution_count": 8,
     "metadata": {},
     "output_type": "execute_result"
    }
   ],
   "source": [
    "prediction_dataset = MyOutOfSampleMarketDataSet() |> x-> x[\"dataset\"]"
   ]
  },
  {
   "cell_type": "markdown",
   "id": "9b184816-1c80-4ba8-a8c1-294a600a548d",
   "metadata": {},
   "source": [
    "Next, let's get a list of firms in the `prediction_dataset,` and save it in the `list_of_all_tickers::String` array:"
   ]
  },
  {
   "cell_type": "code",
   "execution_count": 11,
   "id": "520e46bb-a41f-4ea2-a2cb-3cff1d851148",
   "metadata": {},
   "outputs": [],
   "source": [
    "list_of_all_tickers = keys(prediction_dataset) |> collect |> sort;"
   ]
  },
  {
   "cell_type": "markdown",
   "id": "597dbe25-1948-48fb-8194-23a5423831a8",
   "metadata": {},
   "source": [
    "we saved the real-world and risk-neutral lattice parameter calculations, so let's load up the saved file to construct our lattice model. To load the `jld2` (binary) saved file, we pass the path to the file we want to load the [`load(...)` function](https://github.com/JuliaIO/FileIO.jl). This call returns the data as a [Julia `Dict` type](https://docs.julialang.org/en/v1/base/collections/#Base.Dict). \n",
    "* Let's set the path to the save file in the `path_to_lattice_save_file::String` variable."
   ]
  },
  {
   "cell_type": "code",
   "execution_count": 20,
   "id": "c20b3a91-6d36-4f7b-8ee2-d58d31693bfa",
   "metadata": {},
   "outputs": [],
   "source": [
    "path_to_lattice_save_file = joinpath(_PATH_TO_DATA, \"L5a-RealWorldRiskNeutral-SavedData.jld2\");"
   ]
  },
  {
   "cell_type": "markdown",
   "id": "51c719fa-41ec-44c5-b9d3-ecbf6215293b",
   "metadata": {},
   "source": [
    "Then we load the `jld2` file using [the `load(...)` method](https://juliaio.github.io/FileIO.jl/stable/reference/#FileIO.load), where the contents of the file are stored in the `saved_data_dictionary::Dict{String, Any}` variable. In particular, we pull out the `real_world_parameters::Dict{String, Tuple{Float64, Float64, Float64}}` dictionary that holds the real-world parameters estimated previously."
   ]
  },
  {
   "cell_type": "code",
   "execution_count": 22,
   "id": "988ddb4f-1e2b-4368-a9fb-85efb43b5842",
   "metadata": {},
   "outputs": [
    {
     "data": {
      "text/plain": [
       "Dict{String, Tuple{Float64, Float64, Float64}} with 460 entries:\n",
       "  \"NI\"   => (1.00888, 0.98974, 0.5428)\n",
       "  \"EMR\"  => (1.01135, 0.988176, 0.525547)\n",
       "  \"CTAS\" => (1.01068, 0.989279, 0.548772)\n",
       "  \"HSIC\" => (1.01165, 0.987478, 0.526211)\n",
       "  \"KIM\"  => (1.01443, 0.985488, 0.514267)\n",
       "  \"PLD\"  => (1.0109, 0.988852, 0.53351)\n",
       "  \"IEX\"  => (1.00984, 0.989644, 0.53351)\n",
       "  \"BAC\"  => (1.013, 0.986732, 0.51493)\n",
       "  \"CBOE\" => (1.00996, 0.989404, 0.532847)\n",
       "  \"EXR\"  => (1.011, 0.989079, 0.522893)\n",
       "  \"NCLH\" => (1.0251, 0.975189, 0.500332)\n",
       "  \"CVS\"  => (1.01142, 0.988612, 0.506967)\n",
       "  \"DRI\"  => (1.01405, 0.986421, 0.514267)\n",
       "  \"DTE\"  => (1.0086, 0.990494, 0.53152)\n",
       "  \"ZION\" => (1.01719, 0.98292, 0.504977)\n",
       "  \"AVY\"  => (1.01164, 0.987978, 0.529529)\n",
       "  \"EW\"   => (1.01274, 0.986972, 0.530192)\n",
       "  \"EA\"   => (1.01135, 0.988119, 0.523557)\n",
       "  \"NWSA\" => (1.01291, 0.987378, 0.511612)\n",
       "  \"CAG\"  => (1.01029, 0.989518, 0.502322)\n",
       "  \"GILD\" => (1.01021, 0.989964, 0.50365)\n",
       "  \"FCX\"  => (1.02229, 0.979183, 0.504977)\n",
       "  \"GPC\"  => (1.01038, 0.98901, 0.53152)\n",
       "  \"UNP\"  => (1.01084, 0.988866, 0.530192)\n",
       "  \"CDW\"  => (1.0117, 0.988019, 0.544791)\n",
       "  ⋮      => ⋮"
      ]
     },
     "execution_count": 22,
     "metadata": {},
     "output_type": "execute_result"
    }
   ],
   "source": [
    "saved_data_dictionary = load(path_to_lattice_save_file); # saved data as a dictionary\n",
    "real_world_parameters = saved_data_dictionary[\"real_world_parameters\"]"
   ]
  },
  {
   "cell_type": "markdown",
   "id": "4b44588e-b131-497e-a165-fd6697b92d54",
   "metadata": {},
   "source": [
    "Finally, we saved the estimated real-world GBM model parameters using data from 2018 to 2023, so let's load the saved parameter file to initialize our GBM model.\n",
    "* Load the $(\\hat{\\mu},\\hat{\\sigma})$ dataset we computed previously [using `read(...)` method exported by the CSV.jl package](https://github.com/JuliaData/CSV.jl) and store this in the `parameters_df::DataFrame` variable. "
   ]
  },
  {
   "cell_type": "code",
   "execution_count": 31,
   "id": "dcb418fd-d6d2-46df-81dd-e945a0757758",
   "metadata": {},
   "outputs": [
    {
     "data": {
      "text/html": [
       "<div><div style = \"float: left;\"><span>460×3 DataFrame</span></div><div style = \"float: right;\"><span style = \"font-style: italic;\">435 rows omitted</span></div><div style = \"clear: both;\"></div></div><div class = \"data-frame\" style = \"overflow-x: scroll;\"><table class = \"data-frame\" style = \"margin-bottom: 6px;\"><thead><tr class = \"header\"><th class = \"rowNumber\" style = \"font-weight: bold; text-align: right;\">Row</th><th style = \"text-align: left;\">ticker</th><th style = \"text-align: left;\">drift</th><th style = \"text-align: left;\">volatility</th></tr><tr class = \"subheader headerLastRow\"><th class = \"rowNumber\" style = \"font-weight: bold; text-align: right;\"></th><th title = \"String7\" style = \"text-align: left;\">String7</th><th title = \"Float64\" style = \"text-align: left;\">Float64</th><th title = \"Float64\" style = \"text-align: left;\">Float64</th></tr></thead><tbody><tr><td class = \"rowNumber\" style = \"font-weight: bold; text-align: right;\">1</td><td style = \"text-align: left;\">A</td><td style = \"text-align: right;\">0.151876</td><td style = \"text-align: right;\">0.183345</td></tr><tr><td class = \"rowNumber\" style = \"font-weight: bold; text-align: right;\">2</td><td style = \"text-align: left;\">AAL</td><td style = \"text-align: right;\">-0.207376</td><td style = \"text-align: right;\">0.353988</td></tr><tr><td class = \"rowNumber\" style = \"font-weight: bold; text-align: right;\">3</td><td style = \"text-align: left;\">AAP</td><td style = \"text-align: right;\">-0.0458017</td><td style = \"text-align: right;\">0.221122</td></tr><tr><td class = \"rowNumber\" style = \"font-weight: bold; text-align: right;\">4</td><td style = \"text-align: left;\">AAPL</td><td style = \"text-align: right;\">0.291789</td><td style = \"text-align: right;\">0.262843</td></tr><tr><td class = \"rowNumber\" style = \"font-weight: bold; text-align: right;\">5</td><td style = \"text-align: left;\">ABBV</td><td style = \"text-align: right;\">0.118954</td><td style = \"text-align: right;\">0.170957</td></tr><tr><td class = \"rowNumber\" style = \"font-weight: bold; text-align: right;\">6</td><td style = \"text-align: left;\">ABT</td><td style = \"text-align: right;\">0.104121</td><td style = \"text-align: right;\">0.157652</td></tr><tr><td class = \"rowNumber\" style = \"font-weight: bold; text-align: right;\">7</td><td style = \"text-align: left;\">ACN</td><td style = \"text-align: right;\">0.145112</td><td style = \"text-align: right;\">0.164483</td></tr><tr><td class = \"rowNumber\" style = \"font-weight: bold; text-align: right;\">8</td><td style = \"text-align: left;\">ADBE</td><td style = \"text-align: right;\">0.136256</td><td style = \"text-align: right;\">0.216782</td></tr><tr><td class = \"rowNumber\" style = \"font-weight: bold; text-align: right;\">9</td><td style = \"text-align: left;\">ADI</td><td style = \"text-align: right;\">0.13822</td><td style = \"text-align: right;\">0.280011</td></tr><tr><td class = \"rowNumber\" style = \"font-weight: bold; text-align: right;\">10</td><td style = \"text-align: left;\">ADM</td><td style = \"text-align: right;\">0.146605</td><td style = \"text-align: right;\">0.164689</td></tr><tr><td class = \"rowNumber\" style = \"font-weight: bold; text-align: right;\">11</td><td style = \"text-align: left;\">ADP</td><td style = \"text-align: right;\">0.12016</td><td style = \"text-align: right;\">0.153493</td></tr><tr><td class = \"rowNumber\" style = \"font-weight: bold; text-align: right;\">12</td><td style = \"text-align: left;\">ADSK</td><td style = \"text-align: right;\">0.0966882</td><td style = \"text-align: right;\">0.247439</td></tr><tr><td class = \"rowNumber\" style = \"font-weight: bold; text-align: right;\">13</td><td style = \"text-align: left;\">AEE</td><td style = \"text-align: right;\">0.0608638</td><td style = \"text-align: right;\">0.141508</td></tr><tr><td style = \"text-align: right;\">&vellip;</td><td style = \"text-align: right;\">&vellip;</td><td style = \"text-align: right;\">&vellip;</td><td style = \"text-align: right;\">&vellip;</td></tr><tr><td class = \"rowNumber\" style = \"font-weight: bold; text-align: right;\">449</td><td style = \"text-align: left;\">WU</td><td style = \"text-align: right;\">-0.0883413</td><td style = \"text-align: right;\">0.182958</td></tr><tr><td class = \"rowNumber\" style = \"font-weight: bold; text-align: right;\">450</td><td style = \"text-align: left;\">WY</td><td style = \"text-align: right;\">0.0270457</td><td style = \"text-align: right;\">0.207162</td></tr><tr><td class = \"rowNumber\" style = \"font-weight: bold; text-align: right;\">451</td><td style = \"text-align: left;\">WYNN</td><td style = \"text-align: right;\">-0.10459</td><td style = \"text-align: right;\">0.335665</td></tr><tr><td class = \"rowNumber\" style = \"font-weight: bold; text-align: right;\">452</td><td style = \"text-align: left;\">XEL</td><td style = \"text-align: right;\">0.0587966</td><td style = \"text-align: right;\">0.140112</td></tr><tr><td class = \"rowNumber\" style = \"font-weight: bold; text-align: right;\">453</td><td style = \"text-align: left;\">XOM</td><td style = \"text-align: right;\">0.0675686</td><td style = \"text-align: right;\">0.207661</td></tr><tr><td class = \"rowNumber\" style = \"font-weight: bold; text-align: right;\">454</td><td style = \"text-align: left;\">XRAY</td><td style = \"text-align: right;\">-0.0533123</td><td style = \"text-align: right;\">0.206569</td></tr><tr><td class = \"rowNumber\" style = \"font-weight: bold; text-align: right;\">455</td><td style = \"text-align: left;\">XYL</td><td style = \"text-align: right;\">0.0785138</td><td style = \"text-align: right;\">0.189759</td></tr><tr><td class = \"rowNumber\" style = \"font-weight: bold; text-align: right;\">456</td><td style = \"text-align: left;\">YUM</td><td style = \"text-align: right;\">0.0808879</td><td style = \"text-align: right;\">0.143849</td></tr><tr><td class = \"rowNumber\" style = \"font-weight: bold; text-align: right;\">457</td><td style = \"text-align: left;\">ZBH</td><td style = \"text-align: right;\">0.00418204</td><td style = \"text-align: right;\">0.184707</td></tr><tr><td class = \"rowNumber\" style = \"font-weight: bold; text-align: right;\">458</td><td style = \"text-align: left;\">ZBRA</td><td style = \"text-align: right;\">0.142869</td><td style = \"text-align: right;\">0.248581</td></tr><tr><td class = \"rowNumber\" style = \"font-weight: bold; text-align: right;\">459</td><td style = \"text-align: left;\">ZION</td><td style = \"text-align: right;\">-0.0258027</td><td style = \"text-align: right;\">0.272149</td></tr><tr><td class = \"rowNumber\" style = \"font-weight: bold; text-align: right;\">460</td><td style = \"text-align: left;\">ZTS</td><td style = \"text-align: right;\">0.147924</td><td style = \"text-align: right;\">0.170282</td></tr></tbody></table></div>"
      ],
      "text/latex": [
       "\\begin{tabular}{r|ccc}\n",
       "\t& ticker & drift & volatility\\\\\n",
       "\t\\hline\n",
       "\t& String7 & Float64 & Float64\\\\\n",
       "\t\\hline\n",
       "\t1 & A & 0.151876 & 0.183345 \\\\\n",
       "\t2 & AAL & -0.207376 & 0.353988 \\\\\n",
       "\t3 & AAP & -0.0458017 & 0.221122 \\\\\n",
       "\t4 & AAPL & 0.291789 & 0.262843 \\\\\n",
       "\t5 & ABBV & 0.118954 & 0.170957 \\\\\n",
       "\t6 & ABT & 0.104121 & 0.157652 \\\\\n",
       "\t7 & ACN & 0.145112 & 0.164483 \\\\\n",
       "\t8 & ADBE & 0.136256 & 0.216782 \\\\\n",
       "\t9 & ADI & 0.13822 & 0.280011 \\\\\n",
       "\t10 & ADM & 0.146605 & 0.164689 \\\\\n",
       "\t11 & ADP & 0.12016 & 0.153493 \\\\\n",
       "\t12 & ADSK & 0.0966882 & 0.247439 \\\\\n",
       "\t13 & AEE & 0.0608638 & 0.141508 \\\\\n",
       "\t14 & AEP & 0.0328065 & 0.141321 \\\\\n",
       "\t15 & AES & 0.10445 & 0.214382 \\\\\n",
       "\t16 & AFL & 0.0925767 & 0.160581 \\\\\n",
       "\t17 & AIG & 0.0399337 & 0.225464 \\\\\n",
       "\t18 & AIZ & 0.0887152 & 0.167993 \\\\\n",
       "\t19 & AJG & 0.229925 & 0.140564 \\\\\n",
       "\t20 & AKAM & 0.0605027 & 0.172643 \\\\\n",
       "\t21 & ALB & 0.216521 & 0.431573 \\\\\n",
       "\t22 & ALGN & 0.0377036 & 0.321463 \\\\\n",
       "\t23 & ALK & -0.0733141 & 0.275738 \\\\\n",
       "\t24 & ALL & 0.0590842 & 0.163484 \\\\\n",
       "\t25 & ALLE & 0.0501607 & 0.18751 \\\\\n",
       "\t26 & AMAT & 0.243255 & 0.375777 \\\\\n",
       "\t27 & AMD & 0.371691 & 0.459735 \\\\\n",
       "\t28 & AME & 0.14154 & 0.158234 \\\\\n",
       "\t29 & AMGN & 0.0610803 & 0.153071 \\\\\n",
       "\t30 & AMP & 0.193587 & 0.218352 \\\\\n",
       "\t$\\dots$ & $\\dots$ & $\\dots$ & $\\dots$ \\\\\n",
       "\\end{tabular}\n"
      ],
      "text/plain": [
       "\u001b[1m460×3 DataFrame\u001b[0m\n",
       "\u001b[1m Row \u001b[0m│\u001b[1m ticker  \u001b[0m\u001b[1m drift       \u001b[0m\u001b[1m volatility \u001b[0m\n",
       "     │\u001b[90m String7 \u001b[0m\u001b[90m Float64     \u001b[0m\u001b[90m Float64    \u001b[0m\n",
       "─────┼──────────────────────────────────\n",
       "   1 │ A         0.151876      0.183345\n",
       "   2 │ AAL      -0.207376      0.353988\n",
       "   3 │ AAP      -0.0458017     0.221122\n",
       "   4 │ AAPL      0.291789      0.262843\n",
       "   5 │ ABBV      0.118954      0.170957\n",
       "   6 │ ABT       0.104121      0.157652\n",
       "   7 │ ACN       0.145112      0.164483\n",
       "   8 │ ADBE      0.136256      0.216782\n",
       "   9 │ ADI       0.13822       0.280011\n",
       "  10 │ ADM       0.146605      0.164689\n",
       "  11 │ ADP       0.12016       0.153493\n",
       "  ⋮  │    ⋮          ⋮           ⋮\n",
       " 451 │ WYNN     -0.10459       0.335665\n",
       " 452 │ XEL       0.0587966     0.140112\n",
       " 453 │ XOM       0.0675686     0.207661\n",
       " 454 │ XRAY     -0.0533123     0.206569\n",
       " 455 │ XYL       0.0785138     0.189759\n",
       " 456 │ YUM       0.0808879     0.143849\n",
       " 457 │ ZBH       0.00418204    0.184707\n",
       " 458 │ ZBRA      0.142869      0.248581\n",
       " 459 │ ZION     -0.0258027     0.272149\n",
       " 460 │ ZTS       0.147924      0.170282\n",
       "\u001b[36m                        439 rows omitted\u001b[0m"
      ]
     },
     "execution_count": 31,
     "metadata": {},
     "output_type": "execute_result"
    }
   ],
   "source": [
    "parameters_df = CSV.read(joinpath(_PATH_TO_DATA,\"Parameters-SP500-2018-2023-Backup.csv\"), DataFrame)"
   ]
  },
  {
   "cell_type": "markdown",
   "id": "9918f2fc-068e-4f60-8552-2ec002f681d8",
   "metadata": {},
   "source": [
    "Finally, let's set some constants we'll use later in this notebook. The comments describe the constants, the units, permissible values, etc."
   ]
  },
  {
   "cell_type": "code",
   "execution_count": 25,
   "id": "62af0617-0a2e-4f46-b5a9-bd33b75e1fbd",
   "metadata": {},
   "outputs": [],
   "source": [
    "Δt = (1.0/252); # step size: 1-trading day in units of years\n",
    "risk_free_rate = 0.0; # hypothetical continuously compounding risk-free rate"
   ]
  },
  {
   "cell_type": "markdown",
   "id": "fbbe476f-e646-4d8d-9668-c07f8598e6af",
   "metadata": {},
   "source": [
    "## Disclaimer and Risks\n",
    "__This content is offered solely for training and informational purposes__. No offer or solicitation to buy or sell securities or derivative products or any investment or trading advice or strategy is made, given, or endorsed by the teaching team. \n",
    "\n",
    "__Trading involves risk__. Carefully review your financial situation before investing in securities, futures contracts, options, or commodity interests. Past performance, whether actual or indicated by historical tests of strategies, is no guarantee of future performance or success. Trading is generally inappropriate for someone with limited resources, investment or trading experience, or a low-risk tolerance.  Only risk capital that is not required for living expenses.\n",
    "\n",
    "__You are fully responsible for any investment or trading decisions you make__. Such decisions should be based solely on evaluating your financial circumstances, investment or trading objectives, risk tolerance, and liquidity needs."
   ]
  },
  {
   "cell_type": "code",
   "execution_count": null,
   "id": "d1d633b4-61b1-4031-af10-bf5887020124",
   "metadata": {},
   "outputs": [],
   "source": []
  }
 ],
 "metadata": {
  "kernelspec": {
   "display_name": "Julia 1.10.5",
   "language": "julia",
   "name": "julia-1.10"
  },
  "language_info": {
   "file_extension": ".jl",
   "mimetype": "application/julia",
   "name": "julia",
   "version": "1.10.5"
  }
 },
 "nbformat": 4,
 "nbformat_minor": 5
}
